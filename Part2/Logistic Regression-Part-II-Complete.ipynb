{
 "cells": [
  {
   "cell_type": "markdown",
   "metadata": {},
   "source": [
    "## 1 - Packages ##\n",
    "\n",
    "First, you need to import all the packages that you will need during this assignment. \n",
    "- [numpy](www.numpy.org) is the fundamental package for scientific computing with Python.\n",
    "- [pandas](pandas.pydata.org/) is an important package for Python data analysis.\n",
    "- [matplotlib](http://matplotlib.org) is a famous library to plot graphs in Python.\n",
    "- [jdc](https://alexhagen.github.io/jdc/) : Jupyter magic that allows defining classes over multiple jupyter notebook cells."
   ]
  },
  {
   "cell_type": "code",
   "execution_count": 1,
   "metadata": {},
   "outputs": [],
   "source": [
    "import numpy as np\n",
    "import pandas as pd\n",
    "import jdc\n",
    "import matplotlib.pyplot as plt\n",
    "from plotutil_partII import plotData"
   ]
  },
  {
   "cell_type": "markdown",
   "metadata": {},
   "source": [
    "## 2 - Problem Statement ##\n",
    "\n",
    "    - In Section 2.1, implement the helper function sigmoid \n",
    "    - In Section 2.2, implement the helper function normalize \n",
    "            (Attention: when you call it, DON'T use self.normalize becuase it is not a part of the LogisticRegression class)\n",
    "    - In Section 2.3, define the LogisticRegression class"
   ]
  },
  {
   "cell_type": "markdown",
   "metadata": {},
   "source": [
    "### 2.1 - Sigmoid Function ###\n",
    "\n",
    "Define a helper function 1: $sigmoid(Z) = \\frac{1}{1 + e^{-Z}}$"
   ]
  },
  {
   "cell_type": "code",
   "execution_count": 2,
   "metadata": {},
   "outputs": [],
   "source": [
    "def sigmoid(Z):\n",
    "    \"\"\"\n",
    "    Compute the sigmoid of Z\n",
    "\n",
    "    Arguments:\n",
    "    Z -- A scalar or numpy array of any size.\n",
    "\n",
    "    Return:\n",
    "    s -- sigmoid(z)\n",
    "    \"\"\"\n",
    "\n",
    "    ### START CODE HERE ### (≈ 1 line of code)\n",
    "    s = 1 / (1 + np.exp(-Z))\n",
    "    ### END CODE HERE ###\n",
    "    \n",
    "    return s"
   ]
  },
  {
   "cell_type": "markdown",
   "metadata": {},
   "source": [
    "### 2.2 - Feature Scaling ###\n",
    "Define helper function 2 -- features normalization:\n",
    "$ \\frac{x_{i} - mean}{\\sigma}$, where $\\sigma$ is the standard deviation"
   ]
  },
  {
   "cell_type": "code",
   "execution_count": 3,
   "metadata": {},
   "outputs": [],
   "source": [
    "def normalize(matrix):\n",
    "    '''\n",
    "    matrix: the matrix that needs to be normalized. Note that each column represents a training example. \n",
    "         The number of columns is the the number of training examples\n",
    "    '''\n",
    "    # Calculate mean for each feature\n",
    "    # Pay attention to the value of axis = ?\n",
    "    # set keepdims=True to avoid rank-1 array\n",
    "    ### START YOUR CODE HERE ### \n",
    "    # calculate mean (1 line of code)\n",
    "    mean = np.mean(matrix)\n",
    "    # calculate standard deviation (1 line of code)\n",
    "    std = np.std(matrix)\n",
    "    # normalize the matrix based on mean and std\n",
    "    matrix = (matrix - mean) / std\n",
    "    ### YOUR CODE ENDS ###\n",
    "\n",
    "    return matrix"
   ]
  },
  {
   "cell_type": "markdown",
   "metadata": {},
   "source": [
    "### 2.3 - Logistic Regress Class ###\n",
    "You will create a neural network class - LogisticRegression:\n",
    "    - initialize parameters, such as weights, learning rate, etc.\n",
    "    - implement the gredient descent algorithm\n",
    "    - implement the predict function to make predictions for new data sets\n",
    "    - implement the normalization function"
   ]
  },
  {
   "cell_type": "code",
   "execution_count": 4,
   "metadata": {},
   "outputs": [],
   "source": [
    "class LogisticRegression():\n",
    "    def __init__(self, num_of_features=1, learning_rate=0.1, lmd = 1):\n",
    "        \"\"\"\n",
    "        This function creates a vector of zeros of shape (num_of_features, 1) for W and initializes w_0 to 0.\n",
    "\n",
    "        Argument:\n",
    "        num_of_features -- size of the W vector, i.e., the number of features, excluding the bias\n",
    "\n",
    "        Returns:\n",
    "        W -- initialized vector of shape (num_of_features, 1)\n",
    "        w_0 -- initialized scalar (corresponds to the bias)\n",
    "        \"\"\"\n",
    "        # n is the number of features\n",
    "        self.n = num_of_features\n",
    "        # alpha is the learning rate\n",
    "        self.alpha = learning_rate\n",
    "        # lambda is the parameter for regularization\n",
    "        self.lmd = lmd\n",
    "        \n",
    "        ### START YOUR CODE HERE ### \n",
    "        #initialize self.W and self.w_0 to be 0's\n",
    "        self.W = np.zeros((self.n, 1))\n",
    "        self.w_0 = 0\n",
    "        ### YOUR CODE ENDS ###\n",
    "        assert(self.W.shape == (self.n, 1))\n",
    "        assert(isinstance(self.w_0, float) or isinstance(self.w_0, int))"
   ]
  },
  {
   "cell_type": "markdown",
   "metadata": {},
   "source": [
    "## 3 - Gradient Descent ##\n",
    "\n",
    "Forward Propagation:\n",
    "- You get X with its shape as (n, m)\n",
    "- You compute  $$h_{W}(X) = a = \\sigma(w^T X + w_{0}) = \\frac{1}{1 + e^{-(w^T x + w_{0})}}\\tag{1}$$\n",
    "- You calculate the loss function:  $$L(W) = \\frac{1}{m} \\sum_{i=1}^{m}- y^{(i)}  \\log(a^{(i)}) - (1-y^{(i)} )  \\log(1-a^{(i)}) + \\frac{1}{2m} \\sum_{j=1}^{n}w_{j}^{2}\\tag{2}$$. \n",
    "\n",
    "Here are the two formulas you will be using (pay attention to regularization): \n",
    "\n",
    "$$ dw_{j} =\\frac{\\partial L}{\\partial w_{j}} = \\frac{1}{m} \\sum_{i=1}^m (( h_{W}(x^{(i)}) -y^{(i)}) * x_{j}^{(i)}) + \\frac{\\lambda}{m} * w_{j}  \\tag{3}$$\n",
    "$$ dw_{0} = \\frac{\\partial L}{\\partial w_{0}} = \\frac{1}{m} \\sum_{i=1}^m (h_{W}(x^{(i)}) -y^{(i)})\\tag{4}$$\n",
    "\n",
    "The weights will be updated:\n",
    "$$ w_{j} = w_{j} - {\\alpha} * dw_{j}\\tag{5}$$\n",
    " "
   ]
  },
  {
   "cell_type": "code",
   "execution_count": 5,
   "metadata": {},
   "outputs": [],
   "source": [
    "%%add_to LogisticRegression\n",
    "def fit(self, X, Y, epochs=1000, print_loss=True):\n",
    "    \"\"\"\n",
    "    This function implements the Gradient Descent Algorithm\n",
    "    Arguments:\n",
    "    X -- training data matrix: each column is a training example. \n",
    "            The number of columns is equal to the number of training examples\n",
    "    Y -- true \"label\" vector: shape (1, m)\n",
    "    epochs --\n",
    "\n",
    "    Return:\n",
    "    params -- dictionary containing weights\n",
    "    losses -- loss values of every 100 epochs\n",
    "    grads -- dictionary containing dw and dw_0\n",
    "    \"\"\"\n",
    "    losses = []\n",
    "#     print(self.W[1:].shape)\n",
    "    for i in range(epochs):\n",
    "        # Get the number of training examples\n",
    "        m = X.shape[1]\n",
    "        ### START YOUR CODE HERE ### \n",
    "        # Calculate the hypothesis outputs Y_hat (≈ 2 lines of code)\n",
    "        Z = np.dot(X.T, self.W)+ self.w_0 \n",
    "        Y_hat = sigmoid(Z) #90x1\n",
    "    \n",
    "# Calculate loss (≈ 1 line of code) (regularization happens here!!)\n",
    "        total_loss = np.sum((Y * np.log(Y_hat)) + ((1-Y) * np.log(1- Y_hat))) * (-1/m)\n",
    "        reg = (self.lmd/(2*m)) * np.sum(self.W.T @ self.W)\n",
    "        loss = total_loss + reg\n",
    "        # Calculate the gredients for W and w_0\n",
    "\n",
    "        dw = (1/m) * np.dot(X, (Y_hat - Y)) + ((self.lmd/m) * self.W)\n",
    "\n",
    "        dw_0 = (1/m) * np.sum(Y_hat - Y)\n",
    "    \n",
    "        # Weight updates\n",
    "        \n",
    "        self.W = self.W - (self.alpha * dw)\n",
    "        self.w_0 = self.w_0 - (self.alpha * dw_0)\n",
    "        if((i % 100) == 0):\n",
    "            losses.append(loss)\n",
    "             # Print the cost every 100 training examples\n",
    "        if print_loss and i % 100 == 0:\n",
    "            print (\"Cost after iteration %i: %f\" %(i, loss))\n",
    "\n",
    "    params = {\n",
    "        \"W\": self.W,\n",
    "        \"w_0\": self.w_0\n",
    "    }\n",
    "\n",
    "    grads = {\n",
    "        \"dw\": dw,\n",
    "        \"dw_0\": dw_0\n",
    "    }\n",
    "\n",
    "    return params, grads, losses\n"
   ]
  },
  {
   "cell_type": "markdown",
   "metadata": {},
   "source": [
    "### Make Predictions ###\n",
    "The predicted output is calculated as $h_{W}(X) = \\sigma(W^T * X + b)$"
   ]
  },
  {
   "cell_type": "code",
   "execution_count": 6,
   "metadata": {},
   "outputs": [],
   "source": [
    "%%add_to LogisticRegression\n",
    "def predict(self, X):\n",
    "    '''\n",
    "    Predict the actual values using learned parameters (self.W, self.w_0)\n",
    "\n",
    "    Arguments:\n",
    "    X -- data of size (n x m)\n",
    "\n",
    "    Returns:\n",
    "    Y_prediction -- a numpy array (vector) containing all predictions for the examples in X\n",
    "    '''\n",
    "    m = X.shape[1]\n",
    "    Y_prediction = np.zeros((1, m))\n",
    "\n",
    "    # Compute the actual values\n",
    "    ### START YOUR CODE HERE ### \n",
    "    Z_prediction = np.dot(X.T, self.W) + self.w_0\n",
    "    A = sigmoid(Z_prediction)\n",
    "    for i in range(A.shape[0]):\n",
    "\n",
    "        # Convert probabilities A[0,i] to actual predictions Y_prediction[0,i]\n",
    "        ### START CODE HERE ### (≈ 3 lines of code)\n",
    "        if A[i][0] >= 0.5 :\n",
    "            Y_prediction[0][i] = 1\n",
    "        else:\n",
    "            Y_prediction[0][i] = 0\n",
    "        ### END CODE HERE ###\n",
    "    \n",
    "    ### YOUR CODE ENDS ###\n",
    "    assert(Y_prediction.shape == (1, m))\n",
    "    return Y_prediction"
   ]
  },
  {
   "cell_type": "markdown",
   "metadata": {},
   "source": [
    "### Run the Experiments"
   ]
  },
  {
   "cell_type": "code",
   "execution_count": 7,
   "metadata": {},
   "outputs": [],
   "source": [
    "# GRADED FUNCTION: model\n",
    "\n",
    "def Run_Experiment(X_train, Y_train, X_test, Y_test, epochs = 2000, learning_rate = 0.5, lmd = 1, print_loss = False):\n",
    "    \"\"\"\n",
    "    Builds the multivariate linear regression model by calling the function you've implemented previously\n",
    "    \n",
    "    Arguments:\n",
    "    X_train -- training set represented by a numpy array \n",
    "    Y_train -- training labels represented by a numpy array (vector) \n",
    "    X_test -- test set represented by a numpy array\n",
    "    Y_test -- test labels represented by a numpy array (vector)\n",
    "    epochs -- hyperparameter representing the number of iterations to optimize the parameters\n",
    "    learning_rate -- hyperparameter representing the learning rate used in the update rule of optimize()\n",
    "    lmd -- lambda that is used for regularization\n",
    "    print_loss -- Set to true to print the cost every 100 iterations\n",
    "    \n",
    "    Returns:\n",
    "    d -- dictionary containing information about the model.\n",
    "    \"\"\"\n",
    "    num_of_features = X_train.shape[0]\n",
    "    model = LogisticRegression(num_of_features, learning_rate, lmd)\n",
    "    \n",
    "    \n",
    "    ### START YOUR CODE HERE ###\n",
    "    # Obtain the parameters, gredients, and losses by calling a model's method (≈ 1 line of code)\n",
    "    parameters, grads, losses = model.fit(X_train, Y_train, epochs, print_loss)\n",
    "    ### YOUR CODE ENDS ###\n",
    "    \n",
    "    ### START YOUR CODE HERE ###\n",
    "    # Predict test/train set examples (≈ 2 lines of code)\n",
    "    Y_prediction_test = model.predict(X_test)\n",
    "    Y_prediction_train = model.predict(X_train)\n",
    "    ### YOUR CODE ENDS ###\n",
    "\n",
    "    # Print train/test Errors\n",
    "    print(\"train accuracy: {} %\".format(100 - np.mean(np.abs(Y_prediction_train.T - Y_train)) * 100))\n",
    "    print(\"test accuracy: {} %\".format(100 - np.mean(np.abs(Y_prediction_test.T - Y_test)) * 100))\n",
    "\n",
    "    W = parameters['W']\n",
    "    w_0 = parameters['w_0']\n",
    "    print(\"W is \" + str(W))\n",
    "    print(\"w_0 is \" + str(w_0))\n",
    "    \n",
    "    d = {\"losses\": losses,\n",
    "         \"Y_prediction_test\": Y_prediction_test, \n",
    "         \"Y_prediction_train\" : Y_prediction_train, \n",
    "         \"W\" : W, \n",
    "         \"w_0\" : w_0,\n",
    "         \"learning_rate\" : learning_rate,\n",
    "         \"epochs\": epochs,\n",
    "        \"model\": model}\n",
    "    \n",
    "    return d"
   ]
  },
  {
   "cell_type": "markdown",
   "metadata": {},
   "source": [
    "### Load Data and Start the Learning Process ###\n",
    "You can change num_iterations and learning_rate to see the learning process"
   ]
  },
  {
   "cell_type": "code",
   "execution_count": 8,
   "metadata": {},
   "outputs": [
    {
     "data": {
      "image/png": "[encoded data removed]",
      "text/plain": [
       "<Figure size 432x288 with 1 Axes>"
      ]
     },
     "metadata": {
      "needs_background": "light"
     },
     "output_type": "display_data"
    }
   ],
   "source": [
    "#from plotutil import plotData\n",
    "\n",
    "data = np.loadtxt(r'C:\\Users\\Mudasser Afzal\\Desktop\\Current Client\\part2\\pa3-data2-polynomial-train.csv', delimiter=',')\n",
    "X_train = data[:,:-1].T\n",
    "y_train = data[:,-1].T\n",
    "\n",
    "#plot data\n",
    "plotData(None, None, X_train, y_train, \"1st test\", \"2nd test\")\n",
    "\n",
    "data_test = np.loadtxt(r'C:\\Users\\Mudasser Afzal\\Desktop\\Current Client\\part2\\pa3-data2-polynomial-test.csv', delimiter=',')\n",
    "X_test = data_test[:, :-1].T\n",
    "y_test = data_test[:, -1].T\n",
    "\n",
    "X_train = normalize(X_train)\n",
    "X_test = normalize(X_test)\n",
    "\n",
    "y_train = np.expand_dims(y_train, axis=1)\n",
    "y_test = np.expand_dims(y_test, axis=1)"
   ]
  },
  {
   "cell_type": "code",
   "execution_count": 9,
   "metadata": {},
   "outputs": [
    {
     "data": {
      "text/plain": [
       "(27, 108)"
      ]
     },
     "execution_count": 9,
     "metadata": {},
     "output_type": "execute_result"
    }
   ],
   "source": [
    "X_train.shape"
   ]
  },
  {
   "cell_type": "code",
   "execution_count": 10,
   "metadata": {
    "scrolled": true
   },
   "outputs": [
    {
     "name": "stdout",
     "output_type": "stream",
     "text": [
      "Cost after iteration 0: 0.693147\n",
      "Cost after iteration 100: 0.659077\n",
      "Cost after iteration 200: 0.636291\n",
      "Cost after iteration 300: 0.618976\n",
      "Cost after iteration 400: 0.604663\n",
      "Cost after iteration 500: 0.592236\n",
      "Cost after iteration 600: 0.581137\n",
      "Cost after iteration 700: 0.571060\n",
      "Cost after iteration 800: 0.561815\n",
      "Cost after iteration 900: 0.553277\n",
      "Cost after iteration 1000: 0.545353\n",
      "Cost after iteration 1100: 0.537973\n",
      "Cost after iteration 1200: 0.531080\n",
      "Cost after iteration 1300: 0.524625\n",
      "Cost after iteration 1400: 0.518569\n",
      "Cost after iteration 1500: 0.512876\n",
      "Cost after iteration 1600: 0.507514\n",
      "Cost after iteration 1700: 0.502457\n",
      "Cost after iteration 1800: 0.497681\n",
      "Cost after iteration 1900: 0.493163\n",
      "Cost after iteration 2000: 0.488885\n",
      "Cost after iteration 2100: 0.484828\n",
      "Cost after iteration 2200: 0.480978\n",
      "Cost after iteration 2300: 0.477318\n",
      "Cost after iteration 2400: 0.473838\n",
      "Cost after iteration 2500: 0.470523\n",
      "Cost after iteration 2600: 0.467365\n",
      "Cost after iteration 2700: 0.464352\n",
      "Cost after iteration 2800: 0.461475\n",
      "Cost after iteration 2900: 0.458727\n",
      "Cost after iteration 3000: 0.456099\n",
      "Cost after iteration 3100: 0.453585\n",
      "Cost after iteration 3200: 0.451177\n",
      "Cost after iteration 3300: 0.448870\n",
      "Cost after iteration 3400: 0.446658\n",
      "Cost after iteration 3500: 0.444535\n",
      "Cost after iteration 3600: 0.442497\n",
      "Cost after iteration 3700: 0.440540\n",
      "Cost after iteration 3800: 0.438659\n",
      "Cost after iteration 3900: 0.436850\n",
      "Cost after iteration 4000: 0.435109\n",
      "Cost after iteration 4100: 0.433433\n",
      "Cost after iteration 4200: 0.431819\n",
      "Cost after iteration 4300: 0.430264\n",
      "Cost after iteration 4400: 0.428764\n",
      "Cost after iteration 4500: 0.427318\n",
      "Cost after iteration 4600: 0.425923\n",
      "Cost after iteration 4700: 0.424576\n",
      "Cost after iteration 4800: 0.423275\n",
      "Cost after iteration 4900: 0.422018\n",
      "Cost after iteration 5000: 0.420804\n",
      "Cost after iteration 5100: 0.419629\n",
      "Cost after iteration 5200: 0.418493\n",
      "Cost after iteration 5300: 0.417394\n",
      "Cost after iteration 5400: 0.416331\n",
      "Cost after iteration 5500: 0.415301\n",
      "Cost after iteration 5600: 0.414303\n",
      "Cost after iteration 5700: 0.413336\n",
      "Cost after iteration 5800: 0.412400\n",
      "Cost after iteration 5900: 0.411491\n",
      "Cost after iteration 6000: 0.410611\n",
      "Cost after iteration 6100: 0.409756\n",
      "Cost after iteration 6200: 0.408927\n",
      "Cost after iteration 6300: 0.408122\n",
      "Cost after iteration 6400: 0.407341\n",
      "Cost after iteration 6500: 0.406582\n",
      "Cost after iteration 6600: 0.405844\n",
      "Cost after iteration 6700: 0.405128\n",
      "Cost after iteration 6800: 0.404432\n",
      "Cost after iteration 6900: 0.403755\n",
      "Cost after iteration 7000: 0.403096\n",
      "Cost after iteration 7100: 0.402456\n",
      "Cost after iteration 7200: 0.401833\n",
      "Cost after iteration 7300: 0.401226\n",
      "Cost after iteration 7400: 0.400636\n",
      "Cost after iteration 7500: 0.400062\n",
      "Cost after iteration 7600: 0.399502\n",
      "Cost after iteration 7700: 0.398957\n",
      "Cost after iteration 7800: 0.398426\n",
      "Cost after iteration 7900: 0.397908\n",
      "Cost after iteration 8000: 0.397404\n",
      "Cost after iteration 8100: 0.396912\n",
      "Cost after iteration 8200: 0.396433\n",
      "Cost after iteration 8300: 0.395965\n",
      "Cost after iteration 8400: 0.395509\n",
      "Cost after iteration 8500: 0.395064\n",
      "Cost after iteration 8600: 0.394630\n",
      "Cost after iteration 8700: 0.394206\n",
      "Cost after iteration 8800: 0.393792\n",
      "Cost after iteration 8900: 0.393389\n",
      "Cost after iteration 9000: 0.392994\n",
      "Cost after iteration 9100: 0.392609\n",
      "Cost after iteration 9200: 0.392232\n",
      "Cost after iteration 9300: 0.391865\n",
      "Cost after iteration 9400: 0.391505\n",
      "Cost after iteration 9500: 0.391154\n",
      "Cost after iteration 9600: 0.390811\n",
      "Cost after iteration 9700: 0.390475\n",
      "Cost after iteration 9800: 0.390147\n",
      "Cost after iteration 9900: 0.389826\n",
      "train accuracy: 86.11111111111111 %\n",
      "test accuracy: 80.0 %\n",
      "W is [[ 0.43625409]\n",
      " [ 0.58403381]\n",
      " [-0.69255172]\n",
      " [-0.55073138]\n",
      " [-0.67452681]\n",
      " [ 0.0526275 ]\n",
      " [-0.18353435]\n",
      " [-0.27077332]\n",
      " [-0.05889663]\n",
      " [-0.68640173]\n",
      " [-0.10547876]\n",
      " [-0.37515435]\n",
      " [-0.23349411]\n",
      " [-0.57357839]\n",
      " [-0.19732658]\n",
      " [-0.14912183]\n",
      " [-0.11666243]\n",
      " [-0.2160494 ]\n",
      " [-0.26710071]\n",
      " [-0.16196308]\n",
      " [-0.58215131]\n",
      " [-0.07249287]\n",
      " [-0.23302835]\n",
      " [-0.0789705 ]\n",
      " [-0.26010643]\n",
      " [-0.18977654]\n",
      " [-0.40439144]]\n",
      "w_0 is 0.4094839254958453\n"
     ]
    },
    {
     "data": {
      "image/png": "[encoded data removed]",
      "text/plain": [
       "<Figure size 432x288 with 1 Axes>"
      ]
     },
     "metadata": {
      "needs_background": "light"
     },
     "output_type": "display_data"
    }
   ],
   "source": [
    "d = Run_Experiment(X_train, y_train, X_test, y_test, epochs = 10000, learning_rate = 0.002, lmd = 1, print_loss = True)\n",
    "# Plot learning curve (with costs)\n",
    "losses = np.squeeze(d['losses'])\n",
    "plt.plot(losses)\n",
    "plt.ylabel('loss')\n",
    "plt.xlabel('epochs (per hundreds)')\n",
    "plt.title(\"Learning rate =\" + str(d[\"learning_rate\"]))\n",
    "plt.show()"
   ]
  },
  {
   "cell_type": "markdown",
   "metadata": {},
   "source": [
    "### Plot the learning curve ###"
   ]
  },
  {
   "cell_type": "code",
   "execution_count": 11,
   "metadata": {},
   "outputs": [
    {
     "data": {
      "image/png": "[encoded data removed]",
      "text/plain": [
       "<Figure size 432x288 with 1 Axes>"
      ]
     },
     "metadata": {
      "needs_background": "light"
     },
     "output_type": "display_data"
    }
   ],
   "source": [
    "y_train = np.squeeze(y_train, axis=1)\n",
    "plotData(d['model'], lambda x: normalize(x), X_train, y_train, xlabel=\"1st test\", ylabel=\"2nd test\")"
   ]
  }
 ],
 "metadata": {
  "kernelspec": {
   "display_name": "Python 3",
   "language": "python",
   "name": "python3"
  },
  "language_info": {
   "codemirror_mode": {
    "name": "ipython",
    "version": 3
   },
   "file_extension": ".py",
   "mimetype": "text/x-python",
   "name": "python",
   "nbconvert_exporter": "python",
   "pygments_lexer": "ipython3",
   "version": "3.6.10"
  }
 },
 "nbformat": 4,
 "nbformat_minor": 2
}
